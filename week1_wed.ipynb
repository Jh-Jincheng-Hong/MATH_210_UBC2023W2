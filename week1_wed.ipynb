{
 "cells": [
  {
   "cell_type": "markdown",
   "id": "9f8268d8-e640-40da-a404-d46e4a0d2c0a",
   "metadata": {},
   "source": [
    "# MATH 210 Introduction to Mathematical Computing\n",
    "\n",
    "## January 11, 2023\n",
    "\n",
    "* Jupyter\n",
    "* Markdown\n",
    "* LaTeX"
   ]
  },
  {
   "cell_type": "markdown",
   "id": "2007837a-0913-4ca0-8d11-4af83935d5f8",
   "metadata": {},
   "source": [
    "## Jupyter\n",
    "\n",
    "Jupyter notebook is a web application for creating computational documents. Notebooks are comprised of cells which contain text, markdown, HTML, images, and Python code."
   ]
  },
  {
   "cell_type": "markdown",
   "id": "f208b36a-d631-4c87-8776-dbb119c1dfd5",
   "metadata": {},
   "source": [
    "### Modes\n",
    "\n",
    "There are 2 modes: *edit mode* and *command mode*. We wtite in cells in edit mode and we modify the cells in command mode. We can tell the difference between modes by the blue outline of the cell. If the celll is bordered in blue (with cursor inside) we're in edit mode, and command mode otherwise. Switch between modes using `ESC` and `ENTER`."
   ]
  },
  {
   "cell_type": "markdown",
   "id": "2bc3ca75-d4c5-4003-a51f-86ea501d6099",
   "metadata": {},
   "source": [
    "### Cells\n",
    "\n",
    "There are 2 kinds of cells: *markdown cells* and *code cells*. Markdown cells are for markdown, text, HTML, etc. Code cells execute Python code. Switch between cell types in command mode by entering `y` and `m`."
   ]
  },
  {
   "cell_type": "markdown",
   "id": "b631abf2-14d0-4f4c-9b1d-8e8917815e5b",
   "metadata": {},
   "source": [
    "### Keyboard Shortcuts\n",
    "\n",
    "There are many keyboard shortcus to increase our productivity.\n",
    "\n",
    "|Shortcut|Key|\n",
    "|:---:|:---:|\n",
    "|insert cell below|`b`|\n",
    "|insert cell above|`above`|\n",
    "|cut cell|`x`|\n",
    "|copy cell|`c`|\n",
    "|past cell below|`v`|"
   ]
  },
  {
   "cell_type": "markdown",
   "id": "6f79d660-d5c3-41be-b6f6-db0a827a98a8",
   "metadata": {},
   "source": [
    "## Markdown"
   ]
  },
  {
   "cell_type": "markdown",
   "id": "86e7efbb-9b8a-4e98-b7fc-69c60626bad3",
   "metadata": {},
   "source": [
    "### Text Formatting\n",
    "\n",
    "Use `* ... *` for *emphasis*, `** ... **` for **bold** and `...` ` for code."
   ]
  },
  {
   "cell_type": "markdown",
   "id": "745a5c66-4477-4efd-97ee-6bccaf3f4d95",
   "metadata": {},
   "source": [
    "### Headers\n",
    "\n",
    "Use `#`, `##`, `###`,  etc. for headers."
   ]
  },
  {
   "cell_type": "markdown",
   "id": "48febd60-e5c1-4a2f-8120-25272c900f39",
   "metadata": {},
   "source": [
    "### Lists\n",
    "\n",
    "Use `*` for unordered lists and `1.`, `2.`, etc. for ordered lists.\n",
    "\n",
    "* MATH\n",
    "    1. MATH 220 Introduction to Proofs\n",
    "    2. MATH 253 Multivariable Calculus\n",
    "    3. MATH 320 Real Variables\n",
    "* STAT\n",
    "    1. STAT 305 Introduction to Statistical Inference\n",
    "    3. STAT 201 Statistical Inference for Data Science"
   ]
  },
  {
   "cell_type": "markdown",
   "id": "9d0f2fff-d32b-42f0-815f-d37f180958a9",
   "metadata": {},
   "source": [
    "### Tables\n",
    "\n",
    "|Arithmetic Operation|Python Syntax|\n",
    "|:---:|:---:|\n",
    "|Addition|`+`|\n",
    "|Substration|`-`|\n",
    "|Multiplication|`*`|\n",
    "|Division|`/`|\n",
    "|Power|`**`|"
   ]
  },
  {
   "cell_type": "markdown",
   "id": "1bc43c61-0107-4e98-a2f4-1245b40d070d",
   "metadata": {},
   "source": [
    "### Links and Images\n",
    "\n",
    "Use syntax `[text](url)` to include links such as [Mathematical Python]((https://patrickwalls.github.io/mathematicalpython/jupyter/notebook/)).\n",
    "\n",
    "Use syntax `![text](url)` to include images such as ![scenery](https://images.unsplash.com/photo-1597655601841-214a4cfe8b2c?ixlib=rb-4.0.3&ixid=MnwxMjA3fDB8MHxzZWFyY2h8Mnx8bW91bnRhaW4lMjBzY2VuZXJ5fGVufDB8fDB8fA%3D%3D&w=1000&q=80)"
   ]
  },
  {
   "cell_type": "markdown",
   "id": "26af0f8c-c55e-4a25-8d70-636dc24424ec",
   "metadata": {},
   "source": [
    "## LaTeX\n",
    "\n",
    "$$\n",
    "\\int_a^b f(x) dx = F(b) - F(a)\n",
    "$$\n",
    "\n",
    "$$\n",
    "e^x = \\sum_{n=0}^{\\infty} \\frac{e^x}{n!}\n",
    "$$\n"
   ]
  },
  {
   "cell_type": "markdown",
   "id": "86f55995-3a41-4ea2-a71b-61a6303d8fd5",
   "metadata": {},
   "source": []
  }
 ],
 "metadata": {
  "kernelspec": {
   "display_name": "Python 3 (ipykernel)",
   "language": "python",
   "name": "python3"
  },
  "language_info": {
   "codemirror_mode": {
    "name": "ipython",
    "version": 3
   },
   "file_extension": ".py",
   "mimetype": "text/x-python",
   "name": "python",
   "nbconvert_exporter": "python",
   "pygments_lexer": "ipython3",
   "version": "3.10.8"
  }
 },
 "nbformat": 4,
 "nbformat_minor": 5
}
