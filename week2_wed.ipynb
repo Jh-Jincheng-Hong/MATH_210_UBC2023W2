{
 "cells": [
  {
   "cell_type": "markdown",
   "id": "b530ecab-ac35-4067-9727-e05e02ec68df",
   "metadata": {},
   "source": [
    "# MATH 210 Introduction to Mathematical Computing\n",
    "\n",
    "## January 18, 2023\n",
    "\n",
    "* Lists, tuples and range objects\n",
    "* List comprehensions\n",
    "* Builting functions for sequences: `sum`, `len`, `min`, `max`"
   ]
  },
  {
   "cell_type": "markdown",
   "id": "40c9fa0d-85ac-47d6-99a5-b3534f05366c",
   "metadata": {},
   "source": [
    "### Office hours:\n",
    "* Mon 5-6pm\n",
    "* Thu 3:30-5pm\n",
    "* Fri 2-4pm"
   ]
  },
  {
   "cell_type": "markdown",
   "id": "080d9705-818b-4bf0-97c0-1eb08ceb16ac",
   "metadata": {},
   "source": [
    "## Lists, Tuples, and Range Objects\n",
    "\n",
    "There are 3 maintypes of sequences objects: lists, tuples and range objects. Lists and tuples are sequences of arbitrary values whereas range objects are sequences of integers.\n",
    "\n",
    "Use square brackets `[ ... ]` to create lists:"
   ]
  },
  {
   "cell_type": "code",
   "execution_count": 1,
   "id": "84329e02-ce04-445d-93ef-82f042e14f70",
   "metadata": {},
   "outputs": [
    {
     "name": "stdout",
     "output_type": "stream",
     "text": [
      "[1, 4, 9, 16]\n"
     ]
    }
   ],
   "source": [
    "squares = [1,4,9,16]\n",
    "print(squares)"
   ]
  },
  {
   "cell_type": "markdown",
   "id": "23cdb901-4058-412a-84d1-c24007d6546e",
   "metadata": {},
   "source": [
    "Use parentheses `( ... )` to create tuples:"
   ]
  },
  {
   "cell_type": "code",
   "execution_count": 2,
   "id": "c71b9e59-f08d-45d5-96f5-80949754f605",
   "metadata": {},
   "outputs": [
    {
     "name": "stdout",
     "output_type": "stream",
     "text": [
      "(2023, 1, 18)\n"
     ]
    }
   ],
   "source": [
    "date = (2023,1,18)\n",
    "print(date)"
   ]
  },
  {
   "cell_type": "code",
   "execution_count": 3,
   "id": "29b8f9c0-4565-4e57-b4ce-7a853da04b06",
   "metadata": {},
   "outputs": [
    {
     "ename": "NameError",
     "evalue": "name 'Tuples' is not defined",
     "output_type": "error",
     "traceback": [
      "\u001b[0;31m---------------------------------------------------------------------------\u001b[0m",
      "\u001b[0;31mNameError\u001b[0m                                 Traceback (most recent call last)",
      "Cell \u001b[0;32mIn[3], line 1\u001b[0m\n\u001b[0;32m----> 1\u001b[0m \u001b[43mTuples\u001b[49m\n",
      "\u001b[0;31mNameError\u001b[0m: name 'Tuples' is not defined"
     ]
    }
   ],
   "source": [
    "Tuples"
   ]
  },
  {
   "cell_type": "code",
   "execution_count": 4,
   "id": "16248ca9-378a-480f-b948-f6d8a602b515",
   "metadata": {},
   "outputs": [
    {
     "ename": "TypeError",
     "evalue": "'tuple' object does not support item assignment",
     "output_type": "error",
     "traceback": [
      "\u001b[0;31m---------------------------------------------------------------------------\u001b[0m",
      "\u001b[0;31mTypeError\u001b[0m                                 Traceback (most recent call last)",
      "Cell \u001b[0;32mIn[4], line 1\u001b[0m\n\u001b[0;32m----> 1\u001b[0m \u001b[43mdate\u001b[49m\u001b[43m[\u001b[49m\u001b[38;5;241;43m0\u001b[39;49m\u001b[43m]\u001b[49m \u001b[38;5;241m=\u001b[39m \u001b[38;5;241m1999\u001b[39m\n",
      "\u001b[0;31mTypeError\u001b[0m: 'tuple' object does not support item assignment"
     ]
    }
   ],
   "source": [
    "date[0] = 1999"
   ]
  },
  {
   "cell_type": "markdown",
   "id": "5e1fbc6e-4797-4656-9076-6ed0d8f908f9",
   "metadata": {},
   "source": [
    "But we can change the entries in a list:"
   ]
  },
  {
   "cell_type": "markdown",
   "id": "fae53ae4-fe91-47a3-b5c6-e838ef68b696",
   "metadata": {},
   "source": [
    "`range(a,b,step)` create a sequence of $[a,b)$ by increment step. The values are not actually created and stored when we define a range, instead the range object gives us the values only when we ask for it."
   ]
  },
  {
   "cell_type": "code",
   "execution_count": 6,
   "id": "97bc8d06-3f17-4ad2-ad47-e093ee2c4d7e",
   "metadata": {},
   "outputs": [
    {
     "name": "stdout",
     "output_type": "stream",
     "text": [
      "range(0, 11)\n"
     ]
    }
   ],
   "source": [
    "numbers = range(0,11)\n",
    "print(numbers)"
   ]
  },
  {
   "cell_type": "code",
   "execution_count": 22,
   "id": "5e31b3da-6154-479e-9d7a-3b4a472c9491",
   "metadata": {},
   "outputs": [
    {
     "ename": "TypeError",
     "evalue": "'range' object is not callable",
     "output_type": "error",
     "traceback": [
      "\u001b[0;31m---------------------------------------------------------------------------\u001b[0m",
      "\u001b[0;31mTypeError\u001b[0m                                 Traceback (most recent call last)",
      "Cell \u001b[0;32mIn[22], line 1\u001b[0m\n\u001b[0;32m----> 1\u001b[0m \u001b[38;5;28;43mlist\u001b[39;49m\u001b[43m(\u001b[49m\u001b[38;5;28;43mrange\u001b[39;49m\u001b[43m(\u001b[49m\u001b[38;5;241;43m1\u001b[39;49m\u001b[43m,\u001b[49m\u001b[38;5;241;43m10\u001b[39;49m\u001b[43m,\u001b[49m\u001b[38;5;241;43m1\u001b[39;49m\u001b[43m)\u001b[49m\u001b[43m)\u001b[49m\n",
      "\u001b[0;31mTypeError\u001b[0m: 'range' object is not callable"
     ]
    }
   ],
   "source": [
    "list(range(1,10,1))"
   ]
  },
  {
   "cell_type": "code",
   "execution_count": null,
   "id": "40b6bf7c-a380-4096-b757-0e9a3bff9a20",
   "metadata": {},
   "outputs": [],
   "source": []
  },
  {
   "cell_type": "markdown",
   "id": "43884c4b-18a6-44af-b7bd-65ae3bd8d327",
   "metadata": {},
   "source": [
    "## Indexing and Slicing"
   ]
  },
  {
   "cell_type": "markdown",
   "id": "fe4f3889-93dc-4c94-b44c-d4b9e3f02140",
   "metadata": {},
   "source": [
    "Access the entries in a sequence by bracket syntax"
   ]
  },
  {
   "cell_type": "code",
   "execution_count": 13,
   "id": "3f597ea7-a3cd-47bd-85d7-3a30c48bbb50",
   "metadata": {},
   "outputs": [
    {
     "data": {
      "text/plain": [
       "[2, 3, 5, 7, 11]"
      ]
     },
     "execution_count": 13,
     "metadata": {},
     "output_type": "execute_result"
    }
   ],
   "source": [
    "primes = [2,3,5,7,11]\n",
    "primes"
   ]
  },
  {
   "cell_type": "code",
   "execution_count": 15,
   "id": "d57aebf8-e911-41a1-ab92-49b20bf456da",
   "metadata": {},
   "outputs": [
    {
     "data": {
      "text/plain": [
       "5"
      ]
     },
     "execution_count": 15,
     "metadata": {},
     "output_type": "execute_result"
    }
   ],
   "source": [
    "primes[2]"
   ]
  },
  {
   "cell_type": "code",
   "execution_count": 16,
   "id": "2b3a1664-102c-4945-8de9-7701fdf890ab",
   "metadata": {},
   "outputs": [
    {
     "data": {
      "text/plain": [
       "11"
      ]
     },
     "execution_count": 16,
     "metadata": {},
     "output_type": "execute_result"
    }
   ],
   "source": [
    "primes[-1]"
   ]
  },
  {
   "cell_type": "markdown",
   "id": "0233af2a-105f-4e43-9bd7-dfa1de43557a",
   "metadata": {},
   "source": [
    "We can also access subsequences using `:` operator:"
   ]
  },
  {
   "cell_type": "code",
   "execution_count": 18,
   "id": "3d2d554b-b680-4983-9f99-d94b97b33c37",
   "metadata": {},
   "outputs": [
    {
     "data": {
      "text/plain": [
       "[5, 7, 11]"
      ]
     },
     "execution_count": 18,
     "metadata": {},
     "output_type": "execute_result"
    }
   ],
   "source": [
    "primes[2:5]"
   ]
  },
  {
   "cell_type": "markdown",
   "id": "eb1e41b3-762f-4222-8afb-3f8ffd0c59e7",
   "metadata": {},
   "source": [
    "## List Comprehensions\n",
    "\n",
    "A list comprehension is Python syntax for creating lists\n",
    "```\n",
    "sequence = [expression for item in iterable]\n",
    "```\n",
    "* `item` is a variable name\n",
    "* `iterable` is a sequence\n",
    "* `expression` is a Python expression involving `item`"
   ]
  },
  {
   "cell_type": "code",
   "execution_count": 20,
   "id": "c586e988-9d17-4f09-9e09-ce259879be58",
   "metadata": {},
   "outputs": [
    {
     "data": {
      "text/plain": [
       "[1, 4, 9, 16, 25, 36, 49, 64, 81, 100]"
      ]
     },
     "execution_count": 20,
     "metadata": {},
     "output_type": "execute_result"
    }
   ],
   "source": [
    "squares = [n**2 for n in range(1,11)]\n",
    "squares"
   ]
  },
  {
   "cell_type": "markdown",
   "id": "f2dc4ae2-d1a7-4cf9-a01b-e25294404948",
   "metadata": {},
   "source": [
    "What is the maxium value of $$f(x)= \\frac{1+x^3}{1+x^2}\n",
    "$$\n",
    "over the interval $(-1,1)$"
   ]
  },
  {
   "cell_type": "code",
   "execution_count": null,
   "id": "adef15ff-a377-402c-b976-99a02b1988d7",
   "metadata": {},
   "outputs": [],
   "source": [
    "xs = "
   ]
  }
 ],
 "metadata": {
  "kernelspec": {
   "display_name": "Python 3 (ipykernel)",
   "language": "python",
   "name": "python3"
  },
  "language_info": {
   "codemirror_mode": {
    "name": "ipython",
    "version": 3
   },
   "file_extension": ".py",
   "mimetype": "text/x-python",
   "name": "python",
   "nbconvert_exporter": "python",
   "pygments_lexer": "ipython3",
   "version": "3.10.8"
  }
 },
 "nbformat": 4,
 "nbformat_minor": 5
}
