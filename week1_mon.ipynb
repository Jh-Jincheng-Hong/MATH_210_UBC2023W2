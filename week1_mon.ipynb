{
 "cells": [
  {
   "cell_type": "markdown",
   "id": "32259b69-be21-4ad9-a580-0b13033112f5",
   "metadata": {},
   "source": [
    "# MATH 210 introduction to Mathematical Computing\n",
    "\n",
    "## January 9, 2023\n",
    "\n",
    "* Course Outline\n",
    "* Python Examples\n",
    "* Markdown Examples\n",
    "* LaTeX Examples"
   ]
  },
  {
   "cell_type": "markdown",
   "id": "7e4a60a6-e6db-469a-9363-71e3a03d7750",
   "metadata": {},
   "source": [
    "## Course Outline\n",
    "\n",
    "Review the course ioutline, keep up to date with the assignment and quiz due dates and review the course textbook [Mathematical Python](https://patrickwalls.github.io/mathematicalpython/jupyter/notebook/)."
   ]
  },
  {
   "cell_type": "markdown",
   "id": "6598ed48-8f79-485b-848a-b9a17d6dd419",
   "metadata": {
    "tags": []
   },
   "source": [
    "## Markdown Examples\n",
    "\n",
    "Create headings with the `#` symbol:\n",
    "\n",
    "`### This is an H3 heading`\n",
    "\n",
    "Format text such as **bold** and *emphasis* and `code`.\n",
    "\n",
    "Create links with `[text](url)`: \n",
    "\n",
    "`[links](https://patrickwalls.github.io/mathematicalpython/jupyter/notebook/)`"
   ]
  },
  {
   "cell_type": "markdown",
   "id": "51fcff13-7081-4a73-9cf1-a5c6221aa45b",
   "metadata": {},
   "source": [
    "## LaTex Examples"
   ]
  },
  {
   "cell_type": "markdown",
   "id": "702733bd-6cfc-4a9c-8b5c-55ae42446d5b",
   "metadata": {},
   "source": [
    "write LaTex code in markdown cells. For example, write LaTeX inline $\\mathbf{v} \\in \\mathbb{R}^n$. Or in display mode\n",
    "\n",
    "$$\n",
    "f'(a) = \\lim_{x \\to a} \\frac{f(x) - f(a)}{x - a}\n",
    "$$\n"
   ]
  },
  {
   "cell_type": "markdown",
   "id": "7e6e5118-7492-4693-b399-21a823eb7ce0",
   "metadata": {
    "tags": []
   },
   "source": [
    "## Python Examples"
   ]
  },
  {
   "cell_type": "code",
   "execution_count": null,
   "id": "e08dab44-733a-4f46-a59b-1670e4036af1",
   "metadata": {},
   "outputs": [],
   "source": []
  }
 ],
 "metadata": {
  "kernelspec": {
   "display_name": "Python 3 (ipykernel)",
   "language": "python",
   "name": "python3"
  },
  "language_info": {
   "codemirror_mode": {
    "name": "ipython",
    "version": 3
   },
   "file_extension": ".py",
   "mimetype": "text/x-python",
   "name": "python",
   "nbconvert_exporter": "python",
   "pygments_lexer": "ipython3",
   "version": "3.10.8"
  }
 },
 "nbformat": 4,
 "nbformat_minor": 5
}
