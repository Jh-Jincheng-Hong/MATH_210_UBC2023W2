{
 "cells": [
  {
   "cell_type": "markdown",
   "id": "9bafa9c7-b9bc-46a5-9e9d-6c858129368b",
   "metadata": {},
   "source": [
    "# MATH 210 Introduction to Mathematical Computing\n",
    "\n",
    "## January 13, 2023\n",
    "\n",
    "* LaTeX Symbols\n",
    "* LaTeX Examples\n",
    "* Numbers in Python"
   ]
  },
  {
   "cell_type": "markdown",
   "id": "ae73c05e-225c-48d8-a292-94c4abf52294",
   "metadata": {},
   "source": [
    "## LaTeX Symbols\n",
    "\n",
    "write LaTeX code inline using `$...$` and in display mode using `$$ ... $$`.\n",
    "\n",
    "### Superscripts and Subscripts\n",
    "\n",
    "Use `^` for superscripts and `_` for subscripts. e.g., $x^2$, $x_1$"
   ]
  },
  {
   "cell_type": "markdown",
   "id": "546f8bf5-4c4b-4dc4-94f0-fa2ca4e7470a",
   "metadata": {},
   "source": [
    "### Greek Letters and Math Symbols\n",
    "\n",
    "Use a slash and letter name (lowercase) to create greek letters\n",
    "$$\n",
    "\\alpha, \\beta, \\gamma\n",
    "$$\n",
    "\n",
    "Use a slash and letter name (uppercase) to create uppercase greek letters\n",
    "$$\n",
    "\\Gamma, \\Delta, \\Theta, \\dots, \\Sigma\n",
    "$$\n",
    "\n",
    "Common symbols are infinity $\\infty$, union $\\cup$, degree $37^\\circ$, real numbers $\\mathbb{R}$, square root $\\sqrt{x}$ $\\dots$\n"
   ]
  },
  {
   "cell_type": "markdown",
   "id": "5a08f7fb-1f57-43d5-9eb9-c4523ecdafed",
   "metadata": {},
   "source": [
    "### Integrals and Sums\n",
    "\n",
    "Use `\\int_a^b` for integrals and `\\sum_{n=0}^{N}` for sums. For example:\n",
    "\n",
    "$$\n",
    "\\int_a^b f(x) dx = F(b) - F(a)\n",
    "$$\n",
    "\n",
    "and \n",
    "\n",
    "$$\n",
    "\\sum_{n=0}^{\\infty} x^n\n",
    "$$\n"
   ]
  },
  {
   "cell_type": "markdown",
   "id": "8d44d31d-3d92-4e90-abd7-9d9259b05d51",
   "metadata": {},
   "source": [
    "### Matrices\n",
    "\n",
    "Create a matrix with square brackets use `\\begin{bmatrix} ... \\end{bmatrix}`. For example,\n",
    "\n",
    "$$\n",
    "A = \\begin{bmatrix} a & b \\\\ c & d \\end{bmatrix}\n",
    "$$"
   ]
  },
  {
   "cell_type": "markdown",
   "id": "2f6f5c5f-67e5-4009-af0d-04f44212be14",
   "metadata": {},
   "source": [
    "## LaTeX Examples\n",
    "\n",
    "### Quadratic Formula\n",
    "\n",
    "$$\n",
    "x_{1,2} = \\frac{-b \\pm \\sqrt{b^2-4ac}}{2a}\n",
    "$$"
   ]
  },
  {
   "cell_type": "markdown",
   "id": "d054ccf5-ee63-4cce-97f3-7dc0bbeee6e2",
   "metadata": {},
   "source": [
    "### Taylor Series for $sin(x)$\n",
    "\n",
    "$$\n",
    "sin(x) = \\sum_{n=0}^{\\infty} \\frac{x^{2n+1}}{(2n+1)!}\n",
    "$$"
   ]
  },
  {
   "cell_type": "markdown",
   "id": "310ab67a-9062-4c26-bace-2d86b6e7b303",
   "metadata": {},
   "source": [
    "### Normal Distribution\n",
    "\n",
    "$$\n",
    "f(x)= \\frac{1}{\\sigma \\sqrt{2\\pi}} e^{-\\frac{1}{2}(\\frac{x-\\mu}{\\sigma})^2}\n",
    "$$\n"
   ]
  },
  {
   "cell_type": "markdown",
   "id": "a9bea459-7e15-4304-9a26-6a012a89d001",
   "metadata": {},
   "source": [
    "### Other Formula\n",
    "\n",
    "$$\n",
    "\\int_{-\\infty}^{\\infty} \\frac{p+qx}{r^2+2rx \\cos \\lambda +x^2} dx = \\frac{\\pi}{r}\n",
    "$$"
   ]
  },
  {
   "cell_type": "markdown",
   "id": "7fdd5789-359e-4034-bcda-0ebe4b70b35b",
   "metadata": {},
   "source": [
    "### Gaussian Elimination\n",
    "\n",
    "$$\n",
    "\\left[ \\begin{array}{cc|c}\n",
    "1&1&1 \\\\\n",
    "2&2&2\n",
    "\\end{array} \\right]\n",
    "$$"
   ]
  },
  {
   "cell_type": "markdown",
   "id": "72675c47-5cd8-4a02-872c-d53f11d8383e",
   "metadata": {},
   "source": [
    "## Numbers in Python\n",
    "\n",
    "There are 3 main numeric types in Python: integers, floats and complex numbers. Use the function `type` to determine the type of a value."
   ]
  },
  {
   "cell_type": "code",
   "execution_count": 1,
   "id": "0763477c-5e7c-4f74-9f06-8a4f208251b5",
   "metadata": {},
   "outputs": [
    {
     "data": {
      "text/plain": [
       "int"
      ]
     },
     "execution_count": 1,
     "metadata": {},
     "output_type": "execute_result"
    }
   ],
   "source": [
    "type(1)"
   ]
  },
  {
   "cell_type": "code",
   "execution_count": 2,
   "id": "ebe9910f-e7ac-41ca-8958-cd640e61ab76",
   "metadata": {},
   "outputs": [
    {
     "data": {
      "text/plain": [
       "float"
      ]
     },
     "execution_count": 2,
     "metadata": {},
     "output_type": "execute_result"
    }
   ],
   "source": [
    "type(3.1415)"
   ]
  },
  {
   "cell_type": "code",
   "execution_count": 6,
   "id": "e7984c42-7c1c-408f-aa6e-16f57bad4164",
   "metadata": {},
   "outputs": [
    {
     "data": {
      "text/plain": [
       "complex"
      ]
     },
     "execution_count": 6,
     "metadata": {},
     "output_type": "execute_result"
    }
   ],
   "source": [
    "type(1 + 2j)"
   ]
  },
  {
   "cell_type": "markdown",
   "id": "0c8b3655-c324-4f0e-8a8f-64f930aed96c",
   "metadata": {},
   "source": [
    "We have usual cperations: addition `+`, subtraction `-`, multiplication `*`, division `/` and power `**`."
   ]
  },
  {
   "cell_type": "code",
   "execution_count": 7,
   "id": "68b56fe8-0e74-43d9-b912-979f24771a6e",
   "metadata": {},
   "outputs": [
    {
     "data": {
      "text/plain": [
       "5.0"
      ]
     },
     "execution_count": 7,
     "metadata": {},
     "output_type": "execute_result"
    }
   ],
   "source": [
    "10/2"
   ]
  },
  {
   "cell_type": "markdown",
   "id": "ca7caa4c-5424-4565-84fc-5eb543374969",
   "metadata": {},
   "source": [
    "Every outcome for division is **float**, even if it is dividable. And same for roots."
   ]
  },
  {
   "cell_type": "code",
   "execution_count": 8,
   "id": "8ee7e5fd-54a9-4823-9b78-92460d7b5998",
   "metadata": {},
   "outputs": [
    {
     "data": {
      "text/plain": [
       "2.0"
      ]
     },
     "execution_count": 8,
     "metadata": {},
     "output_type": "execute_result"
    }
   ],
   "source": [
    "4 ** 0.5 "
   ]
  },
  {
   "cell_type": "code",
   "execution_count": 9,
   "id": "962a94a2-c0fd-4892-80e2-076bd5716e8b",
   "metadata": {},
   "outputs": [
    {
     "data": {
      "text/plain": [
       "0.30000000000000004"
      ]
     },
     "execution_count": 9,
     "metadata": {},
     "output_type": "execute_result"
    }
   ],
   "source": [
    ".1 + .2"
   ]
  },
  {
   "cell_type": "code",
   "execution_count": null,
   "id": "19cc3c9d-5603-40f4-b6c4-a5a6f508c393",
   "metadata": {},
   "outputs": [],
   "source": []
  }
 ],
 "metadata": {
  "kernelspec": {
   "display_name": "Python 3 (ipykernel)",
   "language": "python",
   "name": "python3"
  },
  "language_info": {
   "codemirror_mode": {
    "name": "ipython",
    "version": 3
   },
   "file_extension": ".py",
   "mimetype": "text/x-python",
   "name": "python",
   "nbconvert_exporter": "python",
   "pygments_lexer": "ipython3",
   "version": "3.10.8"
  }
 },
 "nbformat": 4,
 "nbformat_minor": 5
}
