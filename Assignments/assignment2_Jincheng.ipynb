{
 "cells": [
  {
   "cell_type": "markdown",
   "id": "cf483ce5",
   "metadata": {
    "deletable": false,
    "editable": false,
    "nbgrader": {
     "cell_type": "markdown",
     "checksum": "fb2dbf7a0248dcec7a22e1aa20e80918",
     "grade": false,
     "grade_id": "cell-0d8959e454a4d19d",
     "locked": true,
     "schema_version": 3,
     "solution": false,
     "task": false
    }
   },
   "source": [
    "# MATH 210 Assignment 2\n",
    "\n",
    "### Instructions\n",
    "\n",
    "* Write your solutions in the cells with `YOUR CODE HERE`.\n",
    "* You may work with others but submit your own solutions.\n",
    "* **Do not import** any Python packages such as `math` or `numpy` to complete this assignment.\n",
    "* Execute the test cells to verify that your solutions pass.\n",
    "* **This notebook contains hidden tests!** Your solution may not be completely correct even if it passes all tests below.\n",
    "* Submit this notebook to Canvas."
   ]
  },
  {
   "cell_type": "markdown",
   "id": "a766b1a2",
   "metadata": {
    "deletable": false,
    "editable": false,
    "nbgrader": {
     "cell_type": "markdown",
     "checksum": "456e5201cf9e0062b507d7b49cedf6e6",
     "grade": false,
     "grade_id": "cell-bec18660bc0db1a1",
     "locked": true,
     "schema_version": 3,
     "solution": false,
     "task": false
    }
   },
   "source": [
    "## Problem 1 (5 marks)\n",
    "\n",
    "Write a function called `median` which takes a list of numbers `x` and returns the median value (see [Wikipedia:Median](https://en.wikipedia.org/wiki/Median)). If the length of the list `x` is odd then the median is the middle value and if the length is even then the median is the average of the two middle values. For example, the median of `[1,3,-1,6,2]` is `2` and the median of `[1,3,2,6,-1,0]` is `1.5`. Use the built-in function `sorted` to sort the list of values. Use the modulo operator `%` to determine if an integer is odd or even.\n",
    "\n",
    "This is an exercise in pure Python. Do **not** use any Python packages such as `math` or `numpy` or `scipy` for this exercise."
   ]
  },
  {
   "cell_type": "code",
   "execution_count": 1,
   "id": "830fe029",
   "metadata": {
    "deletable": false,
    "nbgrader": {
     "cell_type": "code",
     "checksum": "cc5c8ed73223d896828162204aafd28a",
     "grade": false,
     "grade_id": "cell-b8dc729e3aef29ad",
     "locked": false,
     "schema_version": 3,
     "solution": true,
     "task": false
    }
   },
   "outputs": [],
   "source": [
    "# YOUR CODE HERE\n",
    "def median(x):\n",
    "    x = sorted(x)\n",
    "    if len(x) % 2:\n",
    "        midind = int((len(x)-1) / 2)\n",
    "        return x[midind]\n",
    "    else:\n",
    "        rightind = int(len(x) / 2)\n",
    "        return (x[rightind - 1] + x[rightind]) / 2\n",
    "\n",
    "# median([1,3,-1,6,2])\n",
    "# median([1,3,2,6,-1,0])"
   ]
  },
  {
   "cell_type": "code",
   "execution_count": 2,
   "id": "b5157b79",
   "metadata": {
    "deletable": false,
    "editable": false,
    "nbgrader": {
     "cell_type": "code",
     "checksum": "4b8a3c208d931daa1daa50112dd471dc",
     "grade": true,
     "grade_id": "cell-2ac08a19378ec6c1",
     "locked": true,
     "points": 1,
     "schema_version": 3,
     "solution": false,
     "task": false
    }
   },
   "outputs": [
    {
     "name": "stdout",
     "output_type": "stream",
     "text": [
      "Problem 1 Test 1: Success!\n"
     ]
    }
   ],
   "source": [
    "\"Check median returns the correct datatype. (1 mark)\"\n",
    "assert isinstance(median([1,2,3,4]),float)\n",
    "print(\"Problem 1 Test 1: Success!\")"
   ]
  },
  {
   "cell_type": "code",
   "execution_count": 3,
   "id": "148d1ae1",
   "metadata": {
    "deletable": false,
    "editable": false,
    "nbgrader": {
     "cell_type": "code",
     "checksum": "e8bb7dabe027ac755381a44c9bca33a9",
     "grade": true,
     "grade_id": "cell-bfb18de96b51b807",
     "locked": true,
     "points": 2,
     "schema_version": 3,
     "solution": false,
     "task": false
    }
   },
   "outputs": [
    {
     "name": "stdout",
     "output_type": "stream",
     "text": [
      "Problem 1 Test 2: Success!\n"
     ]
    }
   ],
   "source": [
    "\"Check median returns the correct values. This cell contains hidden tests. (2 marks)\"\n",
    "assert abs(median([1.0,2.0,3.0]) - 2.0) < 1e-14\n",
    "print(\"Problem 1 Test 2: Success!\")"
   ]
  },
  {
   "cell_type": "code",
   "execution_count": 4,
   "id": "cc79661f",
   "metadata": {
    "deletable": false,
    "editable": false,
    "nbgrader": {
     "cell_type": "code",
     "checksum": "df9e99a0686fb80fa706e909b0dd556a",
     "grade": true,
     "grade_id": "cell-5744556726894c69",
     "locked": true,
     "points": 2,
     "schema_version": 3,
     "solution": false,
     "task": false
    }
   },
   "outputs": [
    {
     "name": "stdout",
     "output_type": "stream",
     "text": [
      "Problem 1 Test 3: Success!\n"
     ]
    }
   ],
   "source": [
    "\"Check median returns the correct values. This cell contains hidden tests. (2 marks)\"\n",
    "assert abs(median([1.0,2.0,3.0,4.0]) - 2.5) < 1e-14\n",
    "print(\"Problem 1 Test 3: Success!\")"
   ]
  },
  {
   "cell_type": "markdown",
   "id": "679c2a08",
   "metadata": {
    "deletable": false,
    "editable": false,
    "nbgrader": {
     "cell_type": "markdown",
     "checksum": "2352a1529b2a8645ecd330d5f018dfc6",
     "grade": false,
     "grade_id": "cell-8e219b28754802fa",
     "locked": true,
     "schema_version": 3,
     "solution": false,
     "task": false
    }
   },
   "source": [
    "## Problem 2 (5 points)\n",
    "\n",
    "Write a function called `sequence_ab` which takes 3 input parameters `a`, `b` and `N` and returns a Python list `[x0,x1,...,xN]` of length $N+1$ representing the recursive sequence\n",
    "\n",
    "$$\n",
    "x_0 = 1 \\ , \\ \\ x_1 = 1 \\ , \\ \\ x_{n+2} = a x_{n+1} + b x_{n}\n",
    "$$\n",
    "\n",
    "For example, if $a = b = 1$ and $N = 5$ then the function returns the partial Fibonacci sequence `[1,1,2,3,5,8]`."
   ]
  },
  {
   "cell_type": "code",
   "execution_count": 5,
   "id": "77cae345",
   "metadata": {
    "deletable": false,
    "nbgrader": {
     "cell_type": "code",
     "checksum": "94f10803d1be873944fa8918f37bbe08",
     "grade": false,
     "grade_id": "cell-00a1f5264fda01d1",
     "locked": false,
     "schema_version": 3,
     "solution": true,
     "task": false
    }
   },
   "outputs": [],
   "source": [
    "# YOUR CODE HERE\n",
    "def sequence_ab(a,b,N):\n",
    "    lst = [1,1]\n",
    "    for i in range(2,N+1):\n",
    "        lst.append(a*lst[-1] + b*lst[-2])\n",
    "    return lst\n",
    "\n",
    "# sequence_ab(1,1,5)\n",
    "        "
   ]
  },
  {
   "cell_type": "code",
   "execution_count": 6,
   "id": "df1b0851",
   "metadata": {
    "deletable": false,
    "editable": false,
    "nbgrader": {
     "cell_type": "code",
     "checksum": "8ab896d6e833e0c5906a46794ad26ee3",
     "grade": true,
     "grade_id": "cell-353a2223da490408",
     "locked": true,
     "points": 1,
     "schema_version": 3,
     "solution": false,
     "task": false
    }
   },
   "outputs": [
    {
     "name": "stdout",
     "output_type": "stream",
     "text": [
      "Problem 2 Test 1: Success!\n"
     ]
    }
   ],
   "source": [
    "\"Check function returns correct datatype. (1 mark)\"\n",
    "assert type(sequence_ab(1,1,5)) == list , \"Return value should be a list.\"\n",
    "print(\"Problem 2 Test 1: Success!\")"
   ]
  },
  {
   "cell_type": "code",
   "execution_count": 7,
   "id": "2a77bd61",
   "metadata": {
    "deletable": false,
    "editable": false,
    "nbgrader": {
     "cell_type": "code",
     "checksum": "ded7292889fc46d8063c8ee34ffb2ec2",
     "grade": true,
     "grade_id": "cell-b1c687cb336730ee",
     "locked": true,
     "points": 1,
     "schema_version": 3,
     "solution": false,
     "task": false
    }
   },
   "outputs": [
    {
     "name": "stdout",
     "output_type": "stream",
     "text": [
      "Problem 2 Test 2: Success!\n"
     ]
    }
   ],
   "source": [
    "\"Check function returns a list of the correct length. (1 mark)\"\n",
    "assert len(sequence_ab(1,-1,23)) == 24 , \"Return value should be a list of length 24.\"\n",
    "print(\"Problem 2 Test 2: Success!\")"
   ]
  },
  {
   "cell_type": "code",
   "execution_count": 8,
   "id": "b4740fb0",
   "metadata": {
    "deletable": false,
    "editable": false,
    "nbgrader": {
     "cell_type": "code",
     "checksum": "189dbc54501bf8dfc55fefe75becb1d6",
     "grade": true,
     "grade_id": "cell-867c5eef7bd84ea4",
     "locked": true,
     "points": 1,
     "schema_version": 3,
     "solution": false,
     "task": false
    }
   },
   "outputs": [
    {
     "name": "stdout",
     "output_type": "stream",
     "text": [
      "Problem 2 Test 3: Success!\n"
     ]
    }
   ],
   "source": [
    "\"Check function returns correct values. (1 mark)\"\n",
    "assert sequence_ab(1,1,5) == [1,1,2,3,5,8] , \"Return value should be [1,1,2,3,5,8] when a=b=1 and N=5.\"\n",
    "print(\"Problem 2 Test 3: Success!\")"
   ]
  },
  {
   "cell_type": "code",
   "execution_count": 9,
   "id": "3899b851",
   "metadata": {
    "deletable": false,
    "editable": false,
    "nbgrader": {
     "cell_type": "code",
     "checksum": "1540735e669127ff7089bd85dffba8ad",
     "grade": true,
     "grade_id": "cell-4afe32e813ddbcc3",
     "locked": true,
     "points": 2,
     "schema_version": 3,
     "solution": false,
     "task": false
    }
   },
   "outputs": [
    {
     "name": "stdout",
     "output_type": "stream",
     "text": [
      "Problem 2 Test 4: Success!\n"
     ]
    }
   ],
   "source": [
    "\"Check function returns correct values. This cell contains hidden tests. (2 marks)\"\n",
    "assert sequence_ab(1,-1,5) == [1,1,0,-1,-1,0] , \"Return value should be [1,1,0,-1,-1,0] when a=1, b=-1 and N=5.\"\n",
    "print(\"Problem 2 Test 4: Success!\")"
   ]
  },
  {
   "cell_type": "markdown",
   "id": "3c109d9c",
   "metadata": {
    "deletable": false,
    "editable": false,
    "nbgrader": {
     "cell_type": "markdown",
     "checksum": "95191ca36388ae140ea022c1f25acf2a",
     "grade": false,
     "grade_id": "cell-73950b42c0e65355",
     "locked": true,
     "schema_version": 3,
     "solution": false,
     "task": false
    }
   },
   "source": [
    "## Problem 3 (5 points)\n",
    "\n",
    "Write a function called `newton_ab` which takes 6 input parameters `a`, `b`, `c`, `x0`, `max_iter` (default value `10`) and `epsilon` (default value `1e-10`) and implements Newton's method with initial guess `x0` and returns an approximation of a solution of the equation $f(x) = 0$ where\n",
    "\n",
    "$$\n",
    "f(x) = x^5 + ax^2 + bx + c\n",
    "$$\n",
    "\n",
    "The value `max_iter` is the maximum number of iterations of Newton's method to implement. The value `epsilon` is the stopping criteria: $|f(x_n)| < \\epsilon$. Use may use the function `newton` defined below."
   ]
  },
  {
   "cell_type": "code",
   "execution_count": 10,
   "id": "e7a15331",
   "metadata": {
    "deletable": false,
    "editable": false,
    "nbgrader": {
     "cell_type": "code",
     "checksum": "1023265f37b26bf89eae9f831c3f269a",
     "grade": false,
     "grade_id": "cell-adf3601f994dd475",
     "locked": true,
     "schema_version": 3,
     "solution": false,
     "task": false
    }
   },
   "outputs": [],
   "source": [
    "def newton(f,Df,x0,epsilon,max_iter):\n",
    "    xn = x0\n",
    "    for n in range(0,max_iter):\n",
    "        fxn = f(xn)\n",
    "        if abs(fxn) < epsilon:\n",
    "            print('Found solution after',n,'iterations.')\n",
    "            return xn\n",
    "        Dfxn = Df(xn)\n",
    "        if abs(Dfxn) < 1e-12:\n",
    "            print('Zero derivative. No solution found.')\n",
    "            return None\n",
    "        xn = xn - fxn/Dfxn\n",
    "    print('Exceeded maximum iterations. No solution found.')\n",
    "    return None"
   ]
  },
  {
   "cell_type": "code",
   "execution_count": 11,
   "id": "000a8e1f",
   "metadata": {
    "deletable": false,
    "nbgrader": {
     "cell_type": "code",
     "checksum": "dc9d7d7c8d8cb96ff8b711544832f5fa",
     "grade": false,
     "grade_id": "cell-23bed5d11ea74a18",
     "locked": false,
     "schema_version": 3,
     "solution": true,
     "task": false
    }
   },
   "outputs": [],
   "source": [
    "# YOUR CODE HERE\n",
    "def newton_ab(a, b, c, x0, max_iter = 10, epsilon = 1e-10):\n",
    "    f = lambda x: x**5 + a* x**2 + b*x + c\n",
    "    Df = lambda x: 5*x**4 + 2*a*x + b\n",
    "    return newton(f,Df,x0,epsilon,max_iter)"
   ]
  },
  {
   "cell_type": "code",
   "execution_count": 12,
   "id": "a7ac3d9c",
   "metadata": {
    "deletable": false,
    "editable": false,
    "nbgrader": {
     "cell_type": "code",
     "checksum": "7152c1bb933bd4e8b2c184638c72bd4c",
     "grade": true,
     "grade_id": "cell-e153d07912e38c56",
     "locked": true,
     "points": 1,
     "schema_version": 3,
     "solution": false,
     "task": false
    }
   },
   "outputs": [
    {
     "name": "stdout",
     "output_type": "stream",
     "text": [
      "Found solution after 5 iterations.\n",
      "Found solution after 5 iterations.\n",
      "Found solution after 3 iterations.\n",
      "Problem 3 Test 2: Success!\n"
     ]
    }
   ],
   "source": [
    "\"Check function accepts the right number of input parameters. (1 mark)\"\n",
    "assert type(newton_ab(2,-1,-1,1)) == float , \"Return value should be a float.\"\n",
    "assert type(newton_ab(2,-1,-1,1,10)) == float , \"Return value should be a float.\"\n",
    "assert type(newton_ab(2,-1,-1,1,10,1e-4)) == float , \"Return value should be a float.\"\n",
    "print(\"Problem 3 Test 2: Success!\")"
   ]
  },
  {
   "cell_type": "code",
   "execution_count": 13,
   "id": "24b630b6",
   "metadata": {
    "deletable": false,
    "editable": false,
    "nbgrader": {
     "cell_type": "code",
     "checksum": "a2d573be5d2e181efaacf2e6668c0884",
     "grade": true,
     "grade_id": "cell-ead4ec53484a02c8",
     "locked": true,
     "points": 1,
     "schema_version": 3,
     "solution": false,
     "task": false
    }
   },
   "outputs": [
    {
     "name": "stdout",
     "output_type": "stream",
     "text": [
      "Zero derivative. No solution found.\n",
      "Problem 3 Test 3: Success!\n"
     ]
    }
   ],
   "source": [
    "\"Check function returns the correct datatype when there is a zero derivative. (1 mark)\"\n",
    "assert newton_ab(-2,-1,1,1,25,0.001) == None , \"Return value should be None when f'(x) = 5x^4 - 4x - 1 and x0 = 1.\"\n",
    "print(\"Problem 3 Test 3: Success!\")"
   ]
  },
  {
   "cell_type": "code",
   "execution_count": 14,
   "id": "9c129247",
   "metadata": {
    "deletable": false,
    "editable": false,
    "nbgrader": {
     "cell_type": "code",
     "checksum": "5dd1c4d0e98e4f5a36252d21ee72757a",
     "grade": true,
     "grade_id": "cell-0bf19de35de2d904",
     "locked": true,
     "points": 1,
     "schema_version": 3,
     "solution": false,
     "task": false
    }
   },
   "outputs": [
    {
     "name": "stdout",
     "output_type": "stream",
     "text": [
      "Exceeded maximum iterations. No solution found.\n",
      "Problem 3 Test 4: Success!\n"
     ]
    }
   ],
   "source": [
    "\"Check function returns the correct datatype when exceed maximum iterations. (1 mark)\"\n",
    "assert newton_ab(2,-1,-1,10,2,1e-12) == None , \"Return value should be None when maximum iterations is exceeded.\"\n",
    "print(\"Problem 3 Test 4: Success!\")"
   ]
  },
  {
   "cell_type": "code",
   "execution_count": 15,
   "id": "4af68856",
   "metadata": {
    "deletable": false,
    "editable": false,
    "nbgrader": {
     "cell_type": "code",
     "checksum": "3a857e6f3a782042826bf234b2f46de4",
     "grade": true,
     "grade_id": "cell-1821dab43585ca3c",
     "locked": true,
     "points": 2,
     "schema_version": 3,
     "solution": false,
     "task": false
    }
   },
   "outputs": [
    {
     "name": "stdout",
     "output_type": "stream",
     "text": [
      "Found solution after 5 iterations.\n",
      "Found solution after 5 iterations.\n",
      "Problem 3 Test 5: Success!\n"
     ]
    }
   ],
   "source": [
    "\"Check function returns the correct values. This cell contains hidden tests. (2 marks)\"\n",
    "assert abs(newton_ab(2,-1,-1,1) - 0.8421756416969274) < 1e-12\n",
    "assert abs(newton_ab(5,4,-3,1,10,1e-12) - 0.4691683039523567) < 1e-12\n",
    "print(\"Problem 3 Test 5: Success!\")"
   ]
  },
  {
   "cell_type": "markdown",
   "id": "328a3298",
   "metadata": {
    "deletable": false,
    "editable": false,
    "nbgrader": {
     "cell_type": "markdown",
     "checksum": "aaa9bb83675ad10d8815f596087c43fc",
     "grade": false,
     "grade_id": "cell-7dda884225f23b65",
     "locked": true,
     "schema_version": 3,
     "solution": false,
     "task": false
    }
   },
   "source": [
    "## Problem 4 (5 points)\n",
    "\n",
    "Represent a polynomial $p(x)=c_0+c_1x+c_2x^2+\\cdots+c_nx^n$ as a list of coefficients $[c_0,c_1,\\dots,c_n]$. Write a function called `poly_critical` which takes 4 input parameters `p`, `a`, `b` and `N` where:\n",
    "\n",
    "* `p` is a Python list of numbers representing a polynomial $p(x)$\n",
    "* `a` and `b` are numbers defining an interval $[a,b]$\n",
    "* `N` is a positive integer\n",
    "\n",
    "The function `poly_critical` implements $N$ iterations of the bisection method applied to the equation $p'(x)=0$ and returns an approximation of a critical point $x$ where $p'(x)=0$ for $x \\in [a,b]$.\n",
    "\n",
    "For example, if `p = [1,-1,1,0,0,1]` (which represents $p(x) = 1-x+x^2+x^5$), `a=0`, `b=1` and `N=10` then the function returns `0.4212656546685004` which approximates a solution of $5x^4+2x-1=0$.\n",
    "\n",
    "The function `poly_critical` may terminate in 4 ways:\n",
    "\n",
    "1. If `len(p) <= 2` (`p` is linear), the function should print `\"No critical points.\"` and return `None`.\n",
    "2. If either initial endpoint is a critical point, return the endpoint.\n",
    "3. If values at both endpoints and midpoint have the same sign at any iteration, the function should print `\"Bisection method fails.\"` and return `None`.\n",
    "4. The function implements N iterations of the bisection method successfully and returns the midpoint of the Nth subinterval.\n",
    "\n",
    "Use the functions `poly_eval`, `poly_diff` and `bisection` defined below. Note that the function `bisection` satisfies the condition 2,3,4 above for appropriate input."
   ]
  },
  {
   "cell_type": "code",
   "execution_count": 16,
   "id": "1dbea0ab",
   "metadata": {
    "deletable": false,
    "editable": false,
    "nbgrader": {
     "cell_type": "code",
     "checksum": "8500ecca9102fed9f455785713e33cd9",
     "grade": false,
     "grade_id": "cell-70668f1fb7fdfd01",
     "locked": true,
     "schema_version": 3,
     "solution": false,
     "task": false
    }
   },
   "outputs": [],
   "source": [
    "def poly_eval(p,a):\n",
    "    return sum([p[n]*a**n for n in range(0,len(p))])\n",
    "\n",
    "def poly_diff(p):\n",
    "    if len(p) > 1:\n",
    "        dpdx = [p[n]*n for n in range(1,len(p))]\n",
    "    else:\n",
    "        dpdx = [0]\n",
    "    return dpdx\n",
    "    \n",
    "def bisection(f,a,b,N):\n",
    "    if f(a) == 0:\n",
    "        print(\"Found exact solution at endpoint x=a.\")\n",
    "        return a\n",
    "    if f(b) == 0:\n",
    "        print(\"Found exact solution at endpoint x=b.\")\n",
    "        return b\n",
    "    if f(a)*f(b) >= 0:\n",
    "        print(\"Bisection method fails.\")\n",
    "        return None\n",
    "    an = a\n",
    "    bn = b\n",
    "    for n in range(1,N+1):\n",
    "        mn = (an + bn)/2\n",
    "        fmn = f(mn)\n",
    "        if f(an)*fmn < 0:\n",
    "            bn = mn\n",
    "        elif f(bn)*fmn < 0:\n",
    "            an = mn\n",
    "        elif fmn == 0:\n",
    "            print(\"Found exact solution.\")\n",
    "            return mn\n",
    "        else:\n",
    "            print(\"Bisection method fails.\")\n",
    "            return None\n",
    "    return (an + bn)/2"
   ]
  },
  {
   "cell_type": "code",
   "execution_count": 17,
   "id": "e0771b3b",
   "metadata": {
    "deletable": false,
    "nbgrader": {
     "cell_type": "code",
     "checksum": "e74e54ac6aac1b2d5cf93830b4177d9c",
     "grade": false,
     "grade_id": "cell-1d2fdd2df0746fdf",
     "locked": false,
     "schema_version": 3,
     "solution": true,
     "task": false
    }
   },
   "outputs": [
    {
     "data": {
      "text/plain": [
       "0.42138671875"
      ]
     },
     "execution_count": 17,
     "metadata": {},
     "output_type": "execute_result"
    }
   ],
   "source": [
    "# YOUR CODE HERE\n",
    "def poly_critical(p,a,b,N):\n",
    "    if len(p) > 2:\n",
    "        deri = poly_diff(p)\n",
    "        func = lambda x: poly_eval(deri,x)\n",
    "        return bisection(func,a,b,N)\n",
    "    else:\n",
    "        print(\"No critical points.\")\n",
    "        return None\n",
    "\n",
    "p = [1,-1,1,0,0,1]\n",
    "a = 0\n",
    "b = 1\n",
    "N = 10\n",
    "# a,b,N = 0,1,10\n",
    "poly_critical(p,a,b,N)"
   ]
  },
  {
   "cell_type": "code",
   "execution_count": 18,
   "id": "8f65a799",
   "metadata": {
    "deletable": false,
    "editable": false,
    "nbgrader": {
     "cell_type": "code",
     "checksum": "b1afb42fda77b19a141f6169f38220f9",
     "grade": true,
     "grade_id": "cell-a7c018588f6973a2",
     "locked": true,
     "points": 1,
     "schema_version": 3,
     "solution": false,
     "task": false
    }
   },
   "outputs": [
    {
     "name": "stdout",
     "output_type": "stream",
     "text": [
      "No critical points.\n",
      "Problem 4 Test 1: Success!\n"
     ]
    }
   ],
   "source": [
    "\"Check function returns the correct value when p(x) is linear. (1 marks)\"\n",
    "assert poly_critical([1,1],0,1,100) == None , \"Return value should be a None if p(x) is linear.\"\n",
    "print(\"Problem 4 Test 1: Success!\")"
   ]
  },
  {
   "cell_type": "code",
   "execution_count": 19,
   "id": "82e2f4e4",
   "metadata": {
    "deletable": false,
    "editable": false,
    "nbgrader": {
     "cell_type": "code",
     "checksum": "2922c8aa3908ba771e235fb1fbe5fc77",
     "grade": true,
     "grade_id": "cell-144fdd5ea907bd8f",
     "locked": true,
     "points": 2,
     "schema_version": 3,
     "solution": false,
     "task": false
    }
   },
   "outputs": [
    {
     "name": "stdout",
     "output_type": "stream",
     "text": [
      "Found exact solution at endpoint x=b.\n",
      "Found exact solution at endpoint x=a.\n",
      "Problem 4 Test 2: Success!\n"
     ]
    }
   ],
   "source": [
    "\"Check function returns the correct value when critical points at the endpoints. (2 marks)\"\n",
    "assert abs(poly_critical([0,-3,0,1],0,1,100) - 1) < 1e-12 , \"Return values should be 1.0 when p(x) = x^3 - 3x and a=0, b=1.\"\n",
    "assert abs(poly_critical([0,-3,0,1],-1,0,100) - -1) < 1e-12 , \"Return values should be -1.0 when p(x) = x^3 - 3x and a=-1, b=0.\"\n",
    "print(\"Problem 4 Test 2: Success!\")"
   ]
  },
  {
   "cell_type": "code",
   "execution_count": 20,
   "id": "73105596",
   "metadata": {
    "deletable": false,
    "editable": false,
    "nbgrader": {
     "cell_type": "code",
     "checksum": "57f13016f04ea0952a0bbc4eda963d39",
     "grade": true,
     "grade_id": "cell-44f11f0f6b978db4",
     "locked": true,
     "points": 2,
     "schema_version": 3,
     "solution": false,
     "task": false
    }
   },
   "outputs": [
    {
     "name": "stdout",
     "output_type": "stream",
     "text": [
      "Problem 3 Test 3: Success!\n"
     ]
    }
   ],
   "source": [
    "\"Check function returns the correct datatype and value. This cell contains hidden tests. (2 marks)\"\n",
    "assert abs(poly_critical([1,-1,0,0,0,1/5],0,2.1,30) - 1.0) <  1e-8 , \"Return value should be 1.0 when p(x)=x^5/5-x+1.\"\n",
    "print(\"Problem 3 Test 3: Success!\")"
   ]
  },
  {
   "cell_type": "markdown",
   "id": "3e639dee",
   "metadata": {
    "deletable": false,
    "editable": false,
    "nbgrader": {
     "cell_type": "markdown",
     "checksum": "b10158fe7b671610104a549fdada082a",
     "grade": false,
     "grade_id": "cell-970e313acf951799",
     "locked": true,
     "schema_version": 3,
     "solution": false,
     "task": false
    }
   },
   "source": [
    "## Problem 5 (5 points)\n",
    "\n",
    "Given a finite sequence of number $[a_0,a_1,\\dots,a_n]$ (of length $n+1$), define a new finite sequence $[b_0,b_1,\\dots, b_n]$ by the recursive formula\n",
    "\n",
    "$$\n",
    "b_n = a_{n} + \\frac{1}{b_{n-1}}\n",
    "$$\n",
    "\n",
    "For example:\n",
    "\n",
    "\\begin{align*}\n",
    "b_0 &= a_0 \\\\\n",
    "b_1 &= a_{1} + \\frac{1}{b_0} = a_{1} + \\frac{1}{a_0} \\\\\n",
    "b_2 &= a_{2} + \\frac{1}{b_1} = a_2 + \\frac{1}{a_{1} + \\frac{1}{a_0}}\\\\\n",
    "b_3 &= a_{3} + \\frac{1}{b_2} = a_3 + \\frac{1}{a_2 + \\frac{1}{a_{1} + \\frac{1}{a_0}}} \\\\\n",
    "& \\vdots \\\\\n",
    "b_n &= a_{n} + \\frac{1}{b_{n-1}} = a_n + \\frac{1}{\\ddots + \\frac{1}{a_0}} \n",
    "\\end{align*}\n",
    "\n",
    "Write a function called `sequence_to_fraction` which takes one input parameter `a` (a Python list of positive integers $[a_0,a_1,\\dots,a_n]$) and returns the last number $b_n$ in the sequence defined above\n",
    "\n",
    "$$\n",
    "b_n = a_n + \\frac{1}{a_{n-1} + \\frac{1}{\\ddots + \\frac{1}{a_0}}}\n",
    "$$\n",
    "\n",
    "\n"
   ]
  },
  {
   "cell_type": "code",
   "execution_count": 21,
   "id": "f6c6640a",
   "metadata": {
    "deletable": false,
    "nbgrader": {
     "cell_type": "code",
     "checksum": "0867eadb6415149410b4f8b3b92dc42d",
     "grade": false,
     "grade_id": "cell-9c6015ad6263af5a",
     "locked": false,
     "schema_version": 3,
     "solution": true,
     "task": false
    }
   },
   "outputs": [],
   "source": [
    "# YOUR CODE HERE\n",
    "# def sequence_to_fraction(a):\n",
    "#     if len(a) == 1:\n",
    "#         return a[0]\n",
    "#     else:\n",
    "#         return a[-1] + 1/sequence_to_fraction(a[:-1])\n",
    "\n",
    "# # ==2\n",
    "# # sequence_to_fraction([1,1,1])\n",
    "\n",
    "def sequence_to_fraction(a):\n",
    "    b = a[0:1]\n",
    "    for i in range(1, len(a)):\n",
    "        b.append( a[i] + 1/b[i-1] )\n",
    "    return b[-1]"
   ]
  },
  {
   "cell_type": "code",
   "execution_count": 22,
   "id": "2f662312",
   "metadata": {
    "deletable": false,
    "editable": false,
    "nbgrader": {
     "cell_type": "code",
     "checksum": "18e73858ff178fb6b5bc147cc7471c76",
     "grade": true,
     "grade_id": "cell-56b9cd8cb0a27347",
     "locked": true,
     "points": 1,
     "schema_version": 3,
     "solution": false,
     "task": false
    }
   },
   "outputs": [
    {
     "name": "stdout",
     "output_type": "stream",
     "text": [
      "Problem 5 Test 1: Success!\n"
     ]
    }
   ],
   "source": [
    "\"Check function returns the correct datatype. (1 mark)\"\n",
    "assert type(sequence_to_fraction([1,1,1,1,1,1,1,1,1,1,1])) == float , \"Return value should be a float.\"\n",
    "print(\"Problem 5 Test 1: Success!\")"
   ]
  },
  {
   "cell_type": "code",
   "execution_count": 23,
   "id": "6ada5806",
   "metadata": {
    "deletable": false,
    "editable": false,
    "nbgrader": {
     "cell_type": "code",
     "checksum": "fc8aa811fbe34c7702ada83dcf5e6065",
     "grade": true,
     "grade_id": "cell-6f7304bcbb8d2aa2",
     "locked": true,
     "points": 1,
     "schema_version": 3,
     "solution": false,
     "task": false
    }
   },
   "outputs": [
    {
     "name": "stdout",
     "output_type": "stream",
     "text": [
      "Problem 5 Test 2: Success!\n"
     ]
    }
   ],
   "source": [
    "\"Check function returns the correct values. (1 mark)\"\n",
    "assert abs(sequence_to_fraction([1,1,1]) - 1.5) < 1e-12\n",
    "print(\"Problem 5 Test 2: Success!\")"
   ]
  },
  {
   "cell_type": "code",
   "execution_count": 24,
   "id": "8190b061",
   "metadata": {
    "deletable": false,
    "editable": false,
    "nbgrader": {
     "cell_type": "code",
     "checksum": "6c6957afd8e32e8a871a2debb73cefba",
     "grade": true,
     "grade_id": "cell-3791ac9e593daa46",
     "locked": true,
     "points": 1,
     "schema_version": 3,
     "solution": false,
     "task": false
    }
   },
   "outputs": [
    {
     "name": "stdout",
     "output_type": "stream",
     "text": [
      "Problem 5 Test 3: Success!\n"
     ]
    }
   ],
   "source": [
    "\"Check function returns the correct values. (1 mark)\"\n",
    "assert abs(sequence_to_fraction([1,1,1,1,1,1,1,1,1,1,1]) - 1.6179775280898876) < 1e-12\n",
    "print(\"Problem 5 Test 3: Success!\")"
   ]
  },
  {
   "cell_type": "code",
   "execution_count": 25,
   "id": "9453a22c",
   "metadata": {
    "deletable": false,
    "editable": false,
    "nbgrader": {
     "cell_type": "code",
     "checksum": "f49c1e7fcc89a6ffc7f9dedec41815c2",
     "grade": true,
     "grade_id": "cell-a7cdbfb491c94b6d",
     "locked": true,
     "points": 2,
     "schema_version": 3,
     "solution": false,
     "task": false
    }
   },
   "outputs": [
    {
     "name": "stdout",
     "output_type": "stream",
     "text": [
      "Problem 5 Test 4: Success!\n"
     ]
    }
   ],
   "source": [
    "\"Check function returns the correct values. This cell contains hidden tests. (1 mark)\"\n",
    "assert abs(sequence_to_fraction([1,15,7,3]) - 3.1415929203539825) < 1e-12\n",
    "print(\"Problem 5 Test 4: Success!\")"
   ]
  },
  {
   "cell_type": "code",
   "execution_count": null,
   "id": "2455b0f4-9cce-40d3-a561-a8dd8fb71df1",
   "metadata": {},
   "outputs": [],
   "source": []
  }
 ],
 "metadata": {
  "kernelspec": {
   "display_name": "Python 3 (ipykernel)",
   "language": "python",
   "name": "python3"
  },
  "language_info": {
   "codemirror_mode": {
    "name": "ipython",
    "version": 3
   },
   "file_extension": ".py",
   "mimetype": "text/x-python",
   "name": "python",
   "nbconvert_exporter": "python",
   "pygments_lexer": "ipython3",
   "version": "3.10.8"
  }
 },
 "nbformat": 4,
 "nbformat_minor": 5
}
