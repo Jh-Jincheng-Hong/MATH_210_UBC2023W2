{
 "cells": [
  {
   "cell_type": "markdown",
   "id": "bf124df6-d7f8-4567-8c14-593842fe3abf",
   "metadata": {},
   "source": [
    "# MATH 210 Introduction to Mathematical Computing\n",
    "\n",
    "## January 16, 2023\n",
    "\n",
    "* Numbers\n",
    "* Variables\n",
    "* Sequences"
   ]
  },
  {
   "cell_type": "markdown",
   "id": "25cd1523-29ee-4453-9fc5-93a3d76d35b3",
   "metadata": {},
   "source": [
    "## Numbers\n",
    "\n",
    "There are 3 main numeric types in Python: integers (`int`), floating point numbers (`float`) and complex numbers (`complex`). Floating point numbers(aka. floats) are real numbers in decimal form (up to 16 decimal places.)"
   ]
  },
  {
   "cell_type": "markdown",
   "id": "ab2df3f9-213a-4571-b636-5e5b9edddb11",
   "metadata": {},
   "source": [
    "For example, let's compute\n",
    "$$\n",
    "{n \\choose m} = \\frac{n!}{(n-m)!m!}\n",
    "$$\n",
    "for $n=5$ and $m=2$:"
   ]
  },
  {
   "cell_type": "code",
   "execution_count": 1,
   "id": "1741d2c5-489f-4d10-99ae-8172e51a7c0e",
   "metadata": {},
   "outputs": [
    {
     "data": {
      "text/plain": [
       "10.0"
      ]
     },
     "execution_count": 1,
     "metadata": {},
     "output_type": "execute_result"
    }
   ],
   "source": [
    "(5*4*3*2*1) / ((3*2*1) * (2*1))"
   ]
  },
  {
   "cell_type": "markdown",
   "id": "63ed1aad-680e-46e4-9760-90df6368b2dd",
   "metadata": {},
   "source": [
    "Notice that $n \\choose m$ is a whole number (in theory) but Python always returns a float when computing division."
   ]
  },
  {
   "cell_type": "markdown",
   "id": "540c01d4-10d5-47ab-abf9-9abd4a392c53",
   "metadata": {},
   "source": [
    "Let's compute the partial Taypor series for $\\cos (x)$:\n",
    "$$\n",
    "\\cos(x) = \\sum_{n=0}^{\\infty} \\frac{(-1)^n x^{2n}}{2n!}\n",
    "= 1- \\frac{x^2}{2} + \\frac{x^4}{4!} - \\frac{x^6}{6!}+ {...}\n",
    "$$"
   ]
  },
  {
   "cell_type": "markdown",
   "id": "c7dd71b1-3318-4759-a888-abe79f2e1ae3",
   "metadata": {},
   "source": [
    "Compute for $x = 2$ up to 4 terms"
   ]
  },
  {
   "cell_type": "code",
   "execution_count": 2,
   "id": "5c7d7841-9525-453e-9600-22922a20be85",
   "metadata": {},
   "outputs": [
    {
     "data": {
      "text/plain": [
       "-0.4222222222222223"
      ]
     },
     "execution_count": 2,
     "metadata": {},
     "output_type": "execute_result"
    }
   ],
   "source": [
    "1 - 2**2/2 + 2**4/(4*3*2*1) - 2**6/(6*5*4*3*2*1)"
   ]
  },
  {
   "cell_type": "markdown",
   "id": "b1401fd4-c7bf-478f-85e3-8454c7ec0ca8",
   "metadata": {},
   "source": [
    "It's inefficient to change values manually everywhere they appear like $x$ in the formula above. We should use variables!"
   ]
  },
  {
   "cell_type": "markdown",
   "id": "cf7c0b73-290d-4be6-86be-7de16b87c29e",
   "metadata": {},
   "source": [
    "## Variables\n",
    "\n",
    "A variable is a name we give to value for use to reuse in our Python code. Let's do the Taylor series for $\\cos(x)$ using variable x"
   ]
  },
  {
   "cell_type": "code",
   "execution_count": 4,
   "id": "fb42d849-f41d-4112-a578-5653e667c4f3",
   "metadata": {},
   "outputs": [
    {
     "data": {
      "text/plain": [
       "0.5402777777777777"
      ]
     },
     "execution_count": 4,
     "metadata": {},
     "output_type": "execute_result"
    }
   ],
   "source": [
    "x = 1\n",
    "1- x**2/2 + x**4/(4*3*2*1) - x**6/(6*5*4*3*2*1)"
   ]
  },
  {
   "cell_type": "code",
   "execution_count": 5,
   "id": "b4a7e5c9-c547-4620-9eae-e202bb90f4e6",
   "metadata": {},
   "outputs": [
    {
     "data": {
      "text/plain": [
       "int"
      ]
     },
     "execution_count": 5,
     "metadata": {},
     "output_type": "execute_result"
    }
   ],
   "source": [
    "type(x)"
   ]
  },
  {
   "cell_type": "markdown",
   "id": "0a704390-ad54-4711-9bd9-77f019082b7b",
   "metadata": {},
   "source": [
    "We use the familiar variables names `x`, `y`, and `z` fo mathematical formulas. It's good practice to use descriptive variable name in longer Python programs and functions.\n",
    "\n",
    "For example, do not use builtin function names as variable names such as `sum`, `type`, `list`, `int`, ..."
   ]
  },
  {
   "cell_type": "markdown",
   "id": "0db8cac6-6391-4107-bfb1-0eac500f8521",
   "metadata": {},
   "source": [
    "If you use a built-in function name, there won't be an error but the built-in fuction will be lost... until you restart the kernel.\n",
    "\n",
    "You can't use a reserved word as a variable name. Python will throw an error."
   ]
  },
  {
   "cell_type": "markdown",
   "id": "7843cc96-f45e-4b8c-bafc-2404f13253e0",
   "metadata": {},
   "source": [
    "Use the Jupyter command `whos` to display all the variables defined in the current environment."
   ]
  },
  {
   "cell_type": "code",
   "execution_count": 6,
   "id": "f1de4dff-e160-44ca-bbc9-4faa1d71a743",
   "metadata": {},
   "outputs": [
    {
     "name": "stdout",
     "output_type": "stream",
     "text": [
      "Variable   Type    Data/Info\n",
      "----------------------------\n",
      "x          int     1\n"
     ]
    }
   ],
   "source": [
    "whos"
   ]
  },
  {
   "cell_type": "markdown",
   "id": "0ff400e5-b81d-4a37-9b5c-227443f680e1",
   "metadata": {},
   "source": [
    "Let's compute the Taylor series of $\\log(1+x)$:\n",
    "$$\n",
    "\\log(1+x) = \\sum_{n=1}^{\\infty} \\frac{(-1)^n x^n}{n}, \\ |x| < 1\n",
    "$$"
   ]
  },
  {
   "cell_type": "code",
   "execution_count": 7,
   "id": "464770ee-e761-40fa-a082-33e3caeeac00",
   "metadata": {},
   "outputs": [
    {
     "data": {
      "text/plain": [
       "0.4046875"
      ]
     },
     "execution_count": 7,
     "metadata": {},
     "output_type": "execute_result"
    }
   ],
   "source": [
    "x = 1/2\n",
    "x - x**2/2 + x**3/3 - x**4/4 + x**5/5 - x**6/6"
   ]
  },
  {
   "cell_type": "markdown",
   "id": "9e1aad03-8e5b-440e-8042-0a0e88af954a",
   "metadata": {},
   "source": [
    "## Sequences\n",
    "\n",
    "Typing out all the terms in a series is inefficient. Instead we can construct sequences using Python list comprehensions. But before we get to list comprehension, let's talk about tuples, lists and ranges."
   ]
  },
  {
   "cell_type": "markdown",
   "id": "496706af-44fb-4c8f-815a-b5c3f88799eb",
   "metadata": {},
   "source": [
    "There are 3 main sequence types in Python: tuple, list and range objects.\n",
    "\n",
    "There isn't much of a difference between tuples and lists. Let's just use lists by default. We can change the entries in a list after defining it but we can't with tuples (this is called mutable/immutable).\n",
    "\n",
    "Use squar brackets to define a list."
   ]
  },
  {
   "cell_type": "code",
   "execution_count": 8,
   "id": "e557a6c3-68da-40b5-8a9a-3af031d4ab21",
   "metadata": {},
   "outputs": [],
   "source": [
    "v = [1,2,3]"
   ]
  },
  {
   "cell_type": "code",
   "execution_count": 9,
   "id": "06b78209-15c7-4f69-8bfc-c7ab089b518c",
   "metadata": {},
   "outputs": [
    {
     "data": {
      "text/plain": [
       "[1, 2, 3]"
      ]
     },
     "execution_count": 9,
     "metadata": {},
     "output_type": "execute_result"
    }
   ],
   "source": [
    "v"
   ]
  },
  {
   "cell_type": "code",
   "execution_count": 10,
   "id": "bf1e6195-53a6-4c56-ad1f-57b14bcd5259",
   "metadata": {},
   "outputs": [
    {
     "data": {
      "text/plain": [
       "list"
      ]
     },
     "execution_count": 10,
     "metadata": {},
     "output_type": "execute_result"
    }
   ],
   "source": [
    "type(v)"
   ]
  },
  {
   "cell_type": "markdown",
   "id": "2857f185-e72d-4357-bbd4-94526833814b",
   "metadata": {},
   "source": [
    "We can make lists of any kind of value including **lists** of lists"
   ]
  },
  {
   "cell_type": "code",
   "execution_count": 11,
   "id": "a4689707-79c3-470f-b084-f8b7118d9761",
   "metadata": {},
   "outputs": [
    {
     "data": {
      "text/plain": [
       "[[1, 2], [3, 4]]"
      ]
     },
     "execution_count": 11,
     "metadata": {},
     "output_type": "execute_result"
    }
   ],
   "source": [
    "M = [[1,2], [3,4]]\n",
    "M"
   ]
  },
  {
   "cell_type": "markdown",
   "id": "c9620eab-f309-44c5-8605-2017e1779c2c",
   "metadata": {},
   "source": [
    "Access entries using its index (starting from 0):"
   ]
  },
  {
   "cell_type": "code",
   "execution_count": 12,
   "id": "e31eecfe-8edf-492f-bffe-e61c26bfb8fa",
   "metadata": {},
   "outputs": [
    {
     "data": {
      "text/plain": [
       "1"
      ]
     },
     "execution_count": 12,
     "metadata": {},
     "output_type": "execute_result"
    }
   ],
   "source": [
    "v[0]"
   ]
  },
  {
   "cell_type": "code",
   "execution_count": 13,
   "id": "713d619f-304b-437e-b6d5-8eff44c3c47f",
   "metadata": {},
   "outputs": [
    {
     "data": {
      "text/plain": [
       "2"
      ]
     },
     "execution_count": 13,
     "metadata": {},
     "output_type": "execute_result"
    }
   ],
   "source": [
    "v[1]"
   ]
  },
  {
   "cell_type": "code",
   "execution_count": 14,
   "id": "b01057b7-8eec-4ff6-b403-5bdeffa8f017",
   "metadata": {},
   "outputs": [
    {
     "data": {
      "text/plain": [
       "[1, 2]"
      ]
     },
     "execution_count": 14,
     "metadata": {},
     "output_type": "execute_result"
    }
   ],
   "source": [
    "M[0]"
   ]
  },
  {
   "cell_type": "code",
   "execution_count": 15,
   "id": "45df477a-bafb-42c4-8755-676e66e0a268",
   "metadata": {},
   "outputs": [
    {
     "data": {
      "text/plain": [
       "2"
      ]
     },
     "execution_count": 15,
     "metadata": {},
     "output_type": "execute_result"
    }
   ],
   "source": [
    "M[0][1]"
   ]
  },
  {
   "cell_type": "markdown",
   "id": "3fb8c9fe-c5bd-44d0-b420-bbc2026a9c78",
   "metadata": {},
   "source": [
    "Range objects are usually used in loops. They are more memory efficient because they don't store all the entries, they just probvide you with each entry when you are for it."
   ]
  },
  {
   "cell_type": "code",
   "execution_count": 16,
   "id": "f6241ee8-c2c9-4a91-aba2-0d933bd26fe0",
   "metadata": {},
   "outputs": [
    {
     "data": {
      "text/plain": [
       "range(0, 10, 2)"
      ]
     },
     "execution_count": 16,
     "metadata": {},
     "output_type": "execute_result"
    }
   ],
   "source": [
    "range(0,10,2)"
   ]
  },
  {
   "cell_type": "code",
   "execution_count": 18,
   "id": "dfdaa29f-93b5-4a33-92e3-8589bcc1ef4c",
   "metadata": {},
   "outputs": [
    {
     "name": "stdout",
     "output_type": "stream",
     "text": [
      "0 1 2 3 4 5 6 7 8 9 "
     ]
    }
   ],
   "source": [
    "for n in range(0,10):\n",
    "    print(n, end = ' ')"
   ]
  },
  {
   "cell_type": "code",
   "execution_count": 19,
   "id": "8da39c07-e596-4044-b4e8-023861520924",
   "metadata": {},
   "outputs": [
    {
     "data": {
      "text/plain": [
       "500500"
      ]
     },
     "execution_count": 19,
     "metadata": {},
     "output_type": "execute_result"
    }
   ],
   "source": [
    "sum(range(1,1001))"
   ]
  },
  {
   "cell_type": "code",
   "execution_count": null,
   "id": "83007cc8-9e48-49fc-a363-13dc8dd6dcde",
   "metadata": {},
   "outputs": [],
   "source": []
  }
 ],
 "metadata": {
  "kernelspec": {
   "display_name": "Python 3 (ipykernel)",
   "language": "python",
   "name": "python3"
  },
  "language_info": {
   "codemirror_mode": {
    "name": "ipython",
    "version": 3
   },
   "file_extension": ".py",
   "mimetype": "text/x-python",
   "name": "python",
   "nbconvert_exporter": "python",
   "pygments_lexer": "ipython3",
   "version": "3.10.8"
  }
 },
 "nbformat": 4,
 "nbformat_minor": 5
}
